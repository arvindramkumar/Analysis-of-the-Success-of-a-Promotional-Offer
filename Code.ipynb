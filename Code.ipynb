{
 "cells": [
  {
   "cell_type": "markdown",
   "metadata": {},
   "source": [
    "# Analysis of the Success of a Promotional Offer"
   ]
  },
  {
   "cell_type": "markdown",
   "metadata": {},
   "source": [
    "# --------------------------------------------------------------------------------------------"
   ]
  },
  {
   "cell_type": "markdown",
   "metadata": {},
   "source": [
    "# Arvind Ramkumar"
   ]
  },
  {
   "cell_type": "markdown",
   "metadata": {},
   "source": [
    "### Email - aramkum4@asu.edu | arvindramkumar1996@gmail.com\n",
    "### Phone - 480(859)2393 "
   ]
  },
  {
   "cell_type": "markdown",
   "metadata": {},
   "source": [
    "# --------------------------------------------------------------------------------------------"
   ]
  },
  {
   "cell_type": "markdown",
   "metadata": {},
   "source": [
    "## Problem Statement "
   ]
  },
  {
   "cell_type": "markdown",
   "metadata": {},
   "source": [
    "This is a detailed analysis of whether or not this Promotional offer was actually profitable for the company, because sometimes promotional offer have the tendency to show a profitability when it is actually not. \n",
    "\n",
    "___\n",
    "Also suggestions are given on how to improvise the benefits of the Promotional offer"
   ]
  },
  {
   "cell_type": "markdown",
   "metadata": {},
   "source": [
    "## Assumption"
   ]
  },
  {
   "cell_type": "markdown",
   "metadata": {},
   "source": [
    "1. As the Move Out Date is missing for most of the data, we assume that the date when the data was collected (06/11/2014) to be the move out dates \n",
    "2. Here, we have compared between With Promotion and Without Promotion to understand the success of the Promotional Offer "
   ]
  },
  {
   "cell_type": "markdown",
   "metadata": {},
   "source": [
    "# I. Data Preprocessing "
   ]
  },
  {
   "cell_type": "markdown",
   "metadata": {},
   "source": [
    "## 1.1 Basics  "
   ]
  },
  {
   "cell_type": "markdown",
   "metadata": {},
   "source": [
    "1. Import Libraries\n",
    "2. Import Data Set \n",
    "3. Explaining the Variables used in Analysis "
   ]
  },
  {
   "cell_type": "markdown",
   "metadata": {},
   "source": [
    "## 1.2 Quality Check  "
   ]
  },
  {
   "cell_type": "markdown",
   "metadata": {},
   "source": [
    "1. The Data was checked for Number of Null and Not Null Values, column wise\n",
    "2. The Data Frame's Shape, Dtypes are checked to have a better understanding of the Model\n",
    "3. Check the type of Unique Values (In Categorical Variable) Present in the Data"
   ]
  },
  {
   "cell_type": "markdown",
   "metadata": {},
   "source": [
    "## 1.3 Data Munging "
   ]
  },
  {
   "cell_type": "markdown",
   "metadata": {},
   "source": [
    "1. Remove all the Spaces in the Column Names\n",
    "2. Convert the Rent from Boolean to 1 or 0 - 1 for True, 0 for False\n",
    "3. Filling in all Null Values in Promotion with a new category - No Promotion \n",
    "4. Remove $ from RentedRate and StreetRate and Convert it to Float - Also remove % From Concession\n",
    "5. Rename the column names by removing ?\n",
    "6. Convert the Reserve Date and Move In Date from Object to Date Format \n",
    "7. Assume all the Move Out Date which is not given as (6/11/2014)\n",
    "8. Obtaining the length of stay of each customer\n",
    "9. Obtaining the Revenue of the Company "
   ]
  },
  {
   "cell_type": "markdown",
   "metadata": {},
   "source": [
    "# II. Data Analysis "
   ]
  },
  {
   "cell_type": "markdown",
   "metadata": {},
   "source": [
    "Qn 1 - Free month promotions are effectively a discount for the customer, though hopefully generate some ultimate benefit to revenue.  Using the dataset, can you assess how much incremental revenue is generated (or lost) from the free month promotions?\n",
    "\n",
    "\n",
    "_________________________________\n",
    "Qn 2 - Free month promotions are effectively a discount for the customer, though hopefully generate some ultimate benefit to revenue.  Using the dataset, can you assess how much incremental revenue is generated (or lost) from the free month promotions?\n",
    "\n",
    "________\n",
    "Qn 3 - To what degree does the length of customers' stays impact your responses above and how should it be considered?  What is the most appropriate way to consider customer length of stay, given the number of customers still renting?\n",
    "\n",
    "_____\n",
    "Qn 4 - How do customer type (based on survey responses), geographic/regional variations, reservation channel, and price concessions impact consideration of (1) and (2) above?\n",
    "_________\n",
    "Qn 5 - What type of restrictions and/or creative adjustments to the structure of the free month promotions would you recommend in order to increase the profitability of the promotion? Can these recommendations be justified by the data provided?\n",
    "\n",
    "_______\n",
    "\n",
    "\n",
    "Qn 6 - What additional information would be helpful to have to better determine the profitability of the First Month Free promotion?\n",
    "\n",
    "_______\n",
    "Qn 7 - Estimate probabilistically the likelihood that CubeSmart received more rentals as of result of offering promotions\n"
   ]
  },
  {
   "cell_type": "markdown",
   "metadata": {},
   "source": [
    "# III. Findings and Recommendations "
   ]
  },
  {
   "cell_type": "markdown",
   "metadata": {},
   "source": [
    "# IV. Future Work"
   ]
  },
  {
   "cell_type": "markdown",
   "metadata": {},
   "source": [
    "# --------------------------------------------------------------------------------------------"
   ]
  },
  {
   "cell_type": "markdown",
   "metadata": {},
   "source": [
    "# I. Data Preprocessing "
   ]
  },
  {
   "cell_type": "markdown",
   "metadata": {},
   "source": [
    "## 1.1 Basics"
   ]
  },
  {
   "cell_type": "markdown",
   "metadata": {},
   "source": [
    "### 1.1.1 Importing Basic Libraries "
   ]
  },
  {
   "cell_type": "code",
   "execution_count": 1,
   "metadata": {},
   "outputs": [],
   "source": [
    "import pandas as pd \n",
    "import numpy as np"
   ]
  },
  {
   "cell_type": "markdown",
   "metadata": {},
   "source": [
    "### 1.1.2 Import Dataset "
   ]
  },
  {
   "cell_type": "code",
   "execution_count": 2,
   "metadata": {},
   "outputs": [],
   "source": [
    "df = pd.read_csv('data.csv')"
   ]
  },
  {
   "cell_type": "code",
   "execution_count": 3,
   "metadata": {},
   "outputs": [
    {
     "data": {
      "text/html": [
       "<div>\n",
       "<style scoped>\n",
       "    .dataframe tbody tr th:only-of-type {\n",
       "        vertical-align: middle;\n",
       "    }\n",
       "\n",
       "    .dataframe tbody tr th {\n",
       "        vertical-align: top;\n",
       "    }\n",
       "\n",
       "    .dataframe thead th {\n",
       "        text-align: right;\n",
       "    }\n",
       "</style>\n",
       "<table border=\"1\" class=\"dataframe\">\n",
       "  <thead>\n",
       "    <tr style=\"text-align: right;\">\n",
       "      <th></th>\n",
       "      <th>Store</th>\n",
       "      <th>Account ID</th>\n",
       "      <th>SquareFeet</th>\n",
       "      <th>Rented?</th>\n",
       "      <th>ReserveDate</th>\n",
       "      <th>Move In Date</th>\n",
       "      <th>Move Out Date</th>\n",
       "      <th>Promotion Name</th>\n",
       "      <th>Source</th>\n",
       "      <th>RentRate</th>\n",
       "      <th>StreetRate</th>\n",
       "      <th>Concession</th>\n",
       "      <th>Region</th>\n",
       "      <th>Previously Used Storage?</th>\n",
       "      <th>Purpose?</th>\n",
       "      <th>Storage Reason</th>\n",
       "    </tr>\n",
       "  </thead>\n",
       "  <tbody>\n",
       "    <tr>\n",
       "      <th>0</th>\n",
       "      <td>3475</td>\n",
       "      <td>105000</td>\n",
       "      <td>0</td>\n",
       "      <td>False</td>\n",
       "      <td>11/11/12</td>\n",
       "      <td>11/17/12</td>\n",
       "      <td>NaN</td>\n",
       "      <td>NaN</td>\n",
       "      <td>Store Reservation</td>\n",
       "      <td>$81.00</td>\n",
       "      <td>$81.00</td>\n",
       "      <td>0.0%</td>\n",
       "      <td>Inland Empire</td>\n",
       "      <td>NaN</td>\n",
       "      <td>NaN</td>\n",
       "      <td>NaN</td>\n",
       "    </tr>\n",
       "    <tr>\n",
       "      <th>1</th>\n",
       "      <td>4115</td>\n",
       "      <td>105001</td>\n",
       "      <td>25</td>\n",
       "      <td>False</td>\n",
       "      <td>11/11/12</td>\n",
       "      <td>11/11/12</td>\n",
       "      <td>NaN</td>\n",
       "      <td>NaN</td>\n",
       "      <td>Store Reservation</td>\n",
       "      <td>$84.00</td>\n",
       "      <td>$84.00</td>\n",
       "      <td>0.0%</td>\n",
       "      <td>Ohio</td>\n",
       "      <td>NaN</td>\n",
       "      <td>NaN</td>\n",
       "      <td>NaN</td>\n",
       "    </tr>\n",
       "    <tr>\n",
       "      <th>2</th>\n",
       "      <td>4615</td>\n",
       "      <td>105002</td>\n",
       "      <td>200</td>\n",
       "      <td>False</td>\n",
       "      <td>11/11/12</td>\n",
       "      <td>11/11/12</td>\n",
       "      <td>NaN</td>\n",
       "      <td>NaN</td>\n",
       "      <td>Store Reservation</td>\n",
       "      <td>$246.00</td>\n",
       "      <td>$246.00</td>\n",
       "      <td>0.0%</td>\n",
       "      <td>Other Southeast</td>\n",
       "      <td>NaN</td>\n",
       "      <td>NaN</td>\n",
       "      <td>NaN</td>\n",
       "    </tr>\n",
       "    <tr>\n",
       "      <th>3</th>\n",
       "      <td>1615</td>\n",
       "      <td>105003</td>\n",
       "      <td>300</td>\n",
       "      <td>True</td>\n",
       "      <td>11/11/12</td>\n",
       "      <td>11/11/12</td>\n",
       "      <td>NaN</td>\n",
       "      <td>NaN</td>\n",
       "      <td>Web Reservation</td>\n",
       "      <td>$224.00</td>\n",
       "      <td>$224.00</td>\n",
       "      <td>0.0%</td>\n",
       "      <td>Inland Empire</td>\n",
       "      <td>No</td>\n",
       "      <td>Other</td>\n",
       "      <td>Other</td>\n",
       "    </tr>\n",
       "    <tr>\n",
       "      <th>4</th>\n",
       "      <td>3355</td>\n",
       "      <td>105004</td>\n",
       "      <td>50</td>\n",
       "      <td>False</td>\n",
       "      <td>11/11/12</td>\n",
       "      <td>11/13/12</td>\n",
       "      <td>NaN</td>\n",
       "      <td>NaN</td>\n",
       "      <td>Web Reservation</td>\n",
       "      <td>$64.00</td>\n",
       "      <td>$64.00</td>\n",
       "      <td>0.0%</td>\n",
       "      <td>Inland Empire</td>\n",
       "      <td>NaN</td>\n",
       "      <td>NaN</td>\n",
       "      <td>NaN</td>\n",
       "    </tr>\n",
       "  </tbody>\n",
       "</table>\n",
       "</div>"
      ],
      "text/plain": [
       "   Store  Account ID  SquareFeet  Rented? ReserveDate Move In Date  \\\n",
       "0   3475      105000           0    False    11/11/12     11/17/12   \n",
       "1   4115      105001          25    False    11/11/12     11/11/12   \n",
       "2   4615      105002         200    False    11/11/12     11/11/12   \n",
       "3   1615      105003         300     True    11/11/12     11/11/12   \n",
       "4   3355      105004          50    False    11/11/12     11/13/12   \n",
       "\n",
       "  Move Out Date Promotion Name             Source  RentRate   StreetRate   \\\n",
       "0           NaN            NaN  Store Reservation    $81.00       $81.00    \n",
       "1           NaN            NaN  Store Reservation    $84.00       $84.00    \n",
       "2           NaN            NaN  Store Reservation   $246.00      $246.00    \n",
       "3           NaN            NaN    Web Reservation   $224.00      $224.00    \n",
       "4           NaN            NaN    Web Reservation    $64.00       $64.00    \n",
       "\n",
       "  Concession           Region Previously Used Storage? Purpose? Storage Reason  \n",
       "0       0.0%    Inland Empire                      NaN      NaN            NaN  \n",
       "1       0.0%             Ohio                      NaN      NaN            NaN  \n",
       "2       0.0%  Other Southeast                      NaN      NaN            NaN  \n",
       "3       0.0%    Inland Empire                       No    Other          Other  \n",
       "4       0.0%    Inland Empire                      NaN      NaN            NaN  "
      ]
     },
     "execution_count": 3,
     "metadata": {},
     "output_type": "execute_result"
    }
   ],
   "source": [
    "df.head()"
   ]
  },
  {
   "cell_type": "markdown",
   "metadata": {},
   "source": [
    "### 1.1.3 Variables Explained "
   ]
  },
  {
   "cell_type": "markdown",
   "metadata": {},
   "source": [
    "1.  Store - The ID that represents which store of CubeSmart it is\n",
    "2.  Account ID - The ID for the customer\n",
    "3.  SquareFeet - Amount of Area the customer did rent\n",
    "4.  Rented? - After reservation, did the customer actually use the facility or not\n",
    "5.  ReserveDate - The date of reservation\n",
    "6.  Move In Date - The Move In Date of the Customer (Given during the time of reservation)\n",
    "7.  Move Out Date - The Move out Date (Missing Values means, the customer is still using the facility)\n",
    "8.  Promotion Name - The Type of Promotion offered to the customer (Missing - No Promotions)\n",
    "9.  Source - The Resevation Channel used to making the reservations\n",
    "10. Rent Rate - The Actual Rent After the Concession\n",
    "11. Street Rate - The Actual Rate (Gross) of Storage Space\n",
    "12. Concession - % Discount on Street Rate \n",
    "13. Region - The Area in which the store us located (State)\n",
    "14. Previously Used Storage - Whether the customer used the storage previously \n",
    "15. Purpose - Purpose of renting the space\n",
    "16. Storage Reason - The Storage Stuffs"
   ]
  },
  {
   "cell_type": "markdown",
   "metadata": {},
   "source": [
    "## 1.2 Quality Check  "
   ]
  },
  {
   "cell_type": "markdown",
   "metadata": {},
   "source": [
    "### 1.2.1 Check For the Number of Null and Not Null Values Columnwise "
   ]
  },
  {
   "cell_type": "code",
   "execution_count": 4,
   "metadata": {},
   "outputs": [
    {
     "data": {
      "text/plain": [
       "Store                       58664\n",
       "Account ID                  58664\n",
       "SquareFeet                  58664\n",
       "Rented?                     58664\n",
       "ReserveDate                 58664\n",
       "Move In Date                58664\n",
       "Move Out Date               15325\n",
       "Promotion Name              38874\n",
       "Source                      58664\n",
       " RentRate                   58664\n",
       " StreetRate                 58664\n",
       "Concession                  58664\n",
       "Region                      58664\n",
       "Previously Used Storage?    36694\n",
       "Purpose?                    36659\n",
       "Storage Reason              36659\n",
       "dtype: int64"
      ]
     },
     "execution_count": 4,
     "metadata": {},
     "output_type": "execute_result"
    }
   ],
   "source": [
    "# Number of Not Null Values\n",
    "\n",
    "notnull_columns = df.columns[df.notnull().any()]\n",
    "df[notnull_columns].notnull().sum()"
   ]
  },
  {
   "cell_type": "code",
   "execution_count": 5,
   "metadata": {},
   "outputs": [
    {
     "data": {
      "text/plain": [
       "Move Out Date               43339\n",
       "Promotion Name              19790\n",
       "Previously Used Storage?    21970\n",
       "Purpose?                    22005\n",
       "Storage Reason              22005\n",
       "dtype: int64"
      ]
     },
     "execution_count": 5,
     "metadata": {},
     "output_type": "execute_result"
    }
   ],
   "source": [
    "# Number of Null Values \n",
    "null_columns=df.columns[df.isnull().any()]\n",
    "df[null_columns].isnull().sum()"
   ]
  },
  {
   "cell_type": "markdown",
   "metadata": {},
   "source": [
    "### 1.2.2 Check for the shape and Dtypes  "
   ]
  },
  {
   "cell_type": "code",
   "execution_count": 6,
   "metadata": {},
   "outputs": [
    {
     "name": "stdout",
     "output_type": "stream",
     "text": [
      "Shape of the Dataframe is (58664, 16)\n"
     ]
    },
    {
     "data": {
      "text/plain": [
       "Store                        int64\n",
       "Account ID                   int64\n",
       "SquareFeet                   int64\n",
       "Rented?                       bool\n",
       "ReserveDate                 object\n",
       "Move In Date                object\n",
       "Move Out Date               object\n",
       "Promotion Name              object\n",
       "Source                      object\n",
       " RentRate                   object\n",
       " StreetRate                 object\n",
       "Concession                  object\n",
       "Region                      object\n",
       "Previously Used Storage?    object\n",
       "Purpose?                    object\n",
       "Storage Reason              object\n",
       "dtype: object"
      ]
     },
     "execution_count": 6,
     "metadata": {},
     "output_type": "execute_result"
    }
   ],
   "source": [
    "# Shape of the Data \n",
    "print('Shape of the Dataframe is' , df.shape)\n",
    "\n",
    "# Type of Data Type \n",
    "df.dtypes"
   ]
  },
  {
   "cell_type": "markdown",
   "metadata": {},
   "source": [
    "### 1.2.3 Unique Values in Categorical Variables Seen"
   ]
  },
  {
   "cell_type": "code",
   "execution_count": 7,
   "metadata": {},
   "outputs": [
    {
     "name": "stdout",
     "output_type": "stream",
     "text": [
      "Promotion Name\n",
      "First Month Free         33293\n",
      "First Month Half Off      4270\n",
      "Three Months Half off      670\n",
      "Two Months Free            312\n",
      "Two Months Half Off        329\n",
      "Name: Account ID, dtype: int64\n",
      "\n",
      " Rented?\n",
      "False    21970\n",
      "True     36694\n",
      "Name: Account ID, dtype: int64\n",
      "\n",
      " Source\n",
      "Sales Center Reservation    18793\n",
      "Store Reservation           19047\n",
      "Web Reservation             20824\n",
      "Name: Account ID, dtype: int64\n",
      "\n",
      " Region\n",
      "Arizona / Las Vegas           5272\n",
      "Atlanta                       4610\n",
      "Baltimore / DC                1812\n",
      "Boston                        2404\n",
      "Chicago                        674\n",
      "Colorado / Utah               4818\n",
      "Connecticut                   2278\n",
      "Florida Markets - Other       2581\n",
      "Inland Empire                 6940\n",
      "Miami / Ft. Lauderdale        2534\n",
      "New York / Northern NJ        3440\n",
      "Ohio                          6717\n",
      "Other Midwest                 3473\n",
      "Other Northeast               1734\n",
      "Other Southeast                872\n",
      "Other West                    1641\n",
      "Philadelphia / Southern NJ    1851\n",
      "Southern California           1563\n",
      "Tennessee                     2003\n",
      "Texas Markets - Major         1447\n",
      "Name: Account ID, dtype: int64\n",
      "\n",
      " Purpose?\n",
      "Business Purposes                                         2419\n",
      "Moving (includes college & military deployment)           2890\n",
      "Organizing / Creating More Living Space                  13749\n",
      "Other                                                     6522\n",
      "Recently Acquired Items (inheritance, purchase, etc.)     8721\n",
      "Remodeling / Renovating                                   1198\n",
      "Seasonal Storage                                          1160\n",
      "Name: Account ID, dtype: int64\n",
      "\n",
      " Storage Reason\n",
      "Auto / Motorcycle / Boat                      952\n",
      "Business Inventory / Product                 2430\n",
      "Clothes / Toys / Miscellaneous               1257\n",
      "Files / Office Items                         6658\n",
      "Furniture / Household goods / Appliances      745\n",
      "Other                                       22200\n",
      "Yard Equipment / Tools                       2417\n",
      "Name: Account ID, dtype: int64\n"
     ]
    }
   ],
   "source": [
    "# Check the Number of Uniques Values \n",
    "\n",
    "PromotionUniques = df.groupby('Promotion Name')['Account ID'].nunique()\n",
    "RentalUniques = df.groupby('Rented?')['Account ID'].nunique()\n",
    "SourceUniques = df.groupby('Source')['Account ID'].nunique()\n",
    "RegionUniques = df.groupby('Region')['Account ID'].nunique()\n",
    "PurposeUniques = df.groupby('Purpose?')['Account ID'].nunique()\n",
    "StorageUniques = df.groupby('Storage Reason')['Account ID'].nunique()\n",
    "\n",
    "print(PromotionUniques)\n",
    "print('\\n',RentalUniques)\n",
    "print('\\n',SourceUniques)\n",
    "print('\\n',RegionUniques)\n",
    "print('\\n',PurposeUniques)\n",
    "print('\\n',StorageUniques)"
   ]
  },
  {
   "cell_type": "markdown",
   "metadata": {},
   "source": [
    "## 1.3 Data Munging"
   ]
  },
  {
   "cell_type": "markdown",
   "metadata": {},
   "source": [
    "### 1.3.1 Removing Space from all column Names for better Accessiblity  "
   ]
  },
  {
   "cell_type": "code",
   "execution_count": 8,
   "metadata": {},
   "outputs": [],
   "source": [
    "# Remove all the spaces in the column heading for better accessiblity \n",
    "\n",
    "df.columns = df.columns.str.strip().str.replace(' ', '_').str.replace('(', '').str.replace(')', '')"
   ]
  },
  {
   "cell_type": "markdown",
   "metadata": {},
   "source": [
    "### 1.3.2 Convert Rented? to 1 or 0 From Yes or No  "
   ]
  },
  {
   "cell_type": "code",
   "execution_count": 9,
   "metadata": {},
   "outputs": [],
   "source": [
    "# Convert Rented? in boolean to 1 and 0, where 1 is True and 0 is False\n",
    "\n",
    "df *= 1\n",
    "\n",
    "# Convert Rented to int\n",
    "df['Rented?'] = df['Rented?'].astype(int)"
   ]
  },
  {
   "cell_type": "markdown",
   "metadata": {},
   "source": [
    "### 1.3.3 Replace all the Missing Values in Promotion_Name with No Promotion "
   ]
  },
  {
   "cell_type": "code",
   "execution_count": 10,
   "metadata": {},
   "outputs": [],
   "source": [
    "# Replace Null Values in Promotion to No Promotion\n",
    "\n",
    "df[\"Promotion_Name\"].fillna(\"No Promotion\", inplace = True)"
   ]
  },
  {
   "cell_type": "markdown",
   "metadata": {},
   "source": [
    "### 1.3.4 Removing $ from RentRate and StreetRate, % from Concession and Convert All three to Float "
   ]
  },
  {
   "cell_type": "code",
   "execution_count": 11,
   "metadata": {},
   "outputs": [],
   "source": [
    "df['RentRate'] = df['RentRate'].str.replace('$', '')\n",
    "df['RentRate'] = df['RentRate'].astype(float)\n",
    "\n",
    "df['StreetRate'] = df['StreetRate'].str.replace('$', '')\n",
    "df['StreetRate'] = df['StreetRate'].astype(float)\n",
    "\n",
    "df['Concession'] = df['Concession'].str.replace('%', '')\n",
    "df['Concession'] = df['Concession'].astype(float)"
   ]
  },
  {
   "cell_type": "markdown",
   "metadata": {},
   "source": [
    "### 1.3.5 Remove ? from the Column Name "
   ]
  },
  {
   "cell_type": "code",
   "execution_count": 12,
   "metadata": {},
   "outputs": [],
   "source": [
    "# Remove ? from column name \n",
    "df.rename(columns={'Rented?':'Rented', \n",
    "                  'Previously_Used_Storage?':'Previously_Used_Storage',\n",
    "                  'Purpose?':'Purpose'}, \n",
    "                 inplace=True)"
   ]
  },
  {
   "cell_type": "markdown",
   "metadata": {},
   "source": [
    "### 1.3.6  Convert Reserve Date, Move In Date and Move Out Date to Date Time Format"
   ]
  },
  {
   "cell_type": "code",
   "execution_count": 13,
   "metadata": {},
   "outputs": [],
   "source": [
    "# Convert Reserve Date to Date Format\n",
    "df['ReserveDate'] = pd.to_datetime(df['ReserveDate'], errors = 'coerce')\n",
    "\n",
    "# Convert Move In Date to Date Format\n",
    "df['Move_In_Date'] = pd.to_datetime(df['Move_In_Date'], errors = 'coerce')\n",
    "\n",
    "# Convert Move Out Date to Date Format\n",
    "df['Move_Out_Date'] = pd.to_datetime(df['Move_Out_Date'], errors = 'coerce')"
   ]
  },
  {
   "cell_type": "markdown",
   "metadata": {},
   "source": [
    "### 1.3.7 Add Move out Date for All Missing Move Out Dates (6/11/2014)"
   ]
  },
  {
   "cell_type": "code",
   "execution_count": 14,
   "metadata": {},
   "outputs": [],
   "source": [
    "# Filling out the Date of Record removal as Move Out Date for Unknown Move Out Date\n",
    "\n",
    "end = pd.to_datetime('2014-06-11')\n",
    "df['Move_Out_Date'] = df['Move_Out_Date'].fillna(end)\n",
    "\n",
    "# Drop Missing Move In Dates Formed due to Incorrect Data Entries \n",
    "\n",
    "df=df.drop(df[df['Move_In_Date'].isnull()].index)"
   ]
  },
  {
   "cell_type": "markdown",
   "metadata": {},
   "source": [
    "### 1.3.8 Calculate the Number of Months the person has used the storage (In Months) "
   ]
  },
  {
   "cell_type": "code",
   "execution_count": 15,
   "metadata": {},
   "outputs": [],
   "source": [
    "# Calculating the number of months occupied \n",
    "\n",
    "df['Difference'] = (df['Move_Out_Date'].sub(df['Move_In_Date'], axis=0)).dt.days\n",
    "df['Difference'] = (df['Difference']/30).apply(np.ceil).astype(float)"
   ]
  },
  {
   "cell_type": "markdown",
   "metadata": {},
   "source": [
    "### 1.3.9 Obtain the Revenue of The Company  "
   ]
  },
  {
   "cell_type": "code",
   "execution_count": 16,
   "metadata": {},
   "outputs": [],
   "source": [
    "# Know the Amount Earned in Total \n",
    "\n",
    "df['AmountEarned'] = np.nan\n",
    "\n",
    "# No Promotion\n",
    "df.AmountEarned = df.AmountEarned.mask( df.Promotion_Name == 'No Promotion', df['RentRate']*df['Difference'])\n",
    "\n",
    "# First Month Free\n",
    "df.AmountEarned = df.AmountEarned.mask( df.Promotion_Name == 'First Month Free', (df['RentRate']*df['Difference']) - df['RentRate'])\n",
    "\n",
    "# First Month Half Off \n",
    "df.AmountEarned = df.AmountEarned.mask( df.Promotion_Name == 'First Month Half Off', (df['RentRate']*df['Difference']) - (df['RentRate']/2))\n",
    "\n",
    "# Three Months Half Off \n",
    "\n",
    "# Two Months Free \n",
    "df.AmountEarned = df.AmountEarned.mask( df.Promotion_Name == 'Two Months Free', (df['RentRate']*df['Difference']) - (df['RentRate']*2))\n",
    "\n",
    "# Two Months Half Off\n",
    "df.AmountEarned = df.AmountEarned.mask( df.Promotion_Name == 'Two Months Half Off', (df['RentRate']*df['Difference']) - df['RentRate'])\n",
    "\n",
    "# Drop Amount Earned for customers who didnt rent\n",
    "df.AmountEarned = df.AmountEarned.mask( df.Rented == 0, 0)\n",
    "\n",
    "# It the Months was zero, the corresponding Amount Earned is also Zero \n",
    "df.AmountEarned = df.AmountEarned.mask(df.Difference == 0, 0)"
   ]
  },
  {
   "cell_type": "markdown",
   "metadata": {},
   "source": [
    "# --------------------------------------------------------------------------------------------"
   ]
  },
  {
   "cell_type": "markdown",
   "metadata": {},
   "source": [
    "# II. Data Analysis "
   ]
  },
  {
   "cell_type": "markdown",
   "metadata": {},
   "source": [
    "# Qn 1 - Based on the \"cost\" (in lost revenue) of providing free month promotions, how much of an increase in rental or reservation volume would CubeSmart have to see to \"break even\" on the promotion?"
   ]
  },
  {
   "cell_type": "markdown",
   "metadata": {},
   "source": [
    "## Number of Customers Necessary to break even  "
   ]
  },
  {
   "cell_type": "code",
   "execution_count": 17,
   "metadata": {},
   "outputs": [
    {
     "name": "stdout",
     "output_type": "stream",
     "text": [
      "The Total Number of Reservations Required to Break Even No Promotion is 0.0\n",
      "The Total Number of Reservations Required to Break Even Two Months Half Off is 32.02585077593871\n",
      "The Total Number of Reservations Required to Break Even First Month Half Off is 272.6769835696182\n",
      "The Total Number of Reservations Required to Break Even First Month Free is 3636.3758838818885\n",
      "The Total Number of Reservations Required to Break Even Three Months Half off is 0.0\n",
      "The Total Number of Reservations Required to Break Even Two Months Free is 13.662832188201225\n",
      "\n",
      "\n",
      "The Total Number of Reservations Required to Break Even the Promotional Loss Incurred is 3954.7415504156465\n"
     ]
    }
   ],
   "source": [
    "# Average Reveue Per Customer Without Promotion\n",
    "\n",
    "NoPromotion = df[(df['Promotion_Name'] == 'No Promotion') & (df['Rented'] == 1)]\n",
    "AverageRevenuePerCustomer = NoPromotion['AmountEarned'].mean()\n",
    "   \n",
    "# Possible Revenue Generated Without Promotions\n",
    "\n",
    "df['NoPromotionEarning'] = np.nan\n",
    "df.NoPromotionEarning = df['RentRate']*df['Difference']\n",
    "\n",
    "abc = df.Promotion_Name.unique()\n",
    "promotionname = abc\n",
    "\n",
    "total = 0 \n",
    "for i in promotionname:\n",
    "    \n",
    "    # Lost Revenue Due to the Promotion\n",
    "    FreeMonthPromotion = df[(df['Promotion_Name'] == i) & (df['Rented'] == 1)]\n",
    "    LostRevenue = (FreeMonthPromotion['NoPromotionEarning'] - FreeMonthPromotion['AmountEarned']).sum()\n",
    "\n",
    "    # Number of Customers (Without Promotion) Rental Required to Break Even for that Promotional Offer\n",
    "    NumberOfCustomersNeeded = LostRevenue/AverageRevenuePerCustomer\n",
    "\n",
    "    ActualRented = df['Rented'].sum()\n",
    "    Total = 58658 # Total Number of people who reserved\n",
    "    NoOfReservationReqd = (Total/ActualRented)*NumberOfCustomersNeeded\n",
    "    print(\"The Total Number of Reservations Required to Break Even {} is {}\".format(i, NoOfReservationReqd))\n",
    "    \n",
    "    total = total + NoOfReservationReqd\n",
    "\n",
    "print('\\n')    \n",
    "print(\"The Total Number of Reservations Required to Break Even the Promotional Loss Incurred is\",total)"
   ]
  },
  {
   "cell_type": "markdown",
   "metadata": {},
   "source": [
    "## When will the Promotion break through  "
   ]
  },
  {
   "cell_type": "code",
   "execution_count": 18,
   "metadata": {},
   "outputs": [],
   "source": [
    "import datetime as dt\n",
    "\n",
    "df['Year'], df['Month'] = df['Move_In_Date'].dt.year, df['Move_In_Date'].dt.month\n",
    "df['Quarter'] = np.nan\n",
    "df['Quarter'] = df['Move_In_Date'].dt.quarter\n",
    "\n",
    "df.Quarter = df.Quarter.mask( (df.Year == 2012) & ((df.Month == 11) | (df.Month == 12)), 0)\n",
    "df.Quarter = df.Quarter.mask( (df.Year == 2014) & ((df.Month == 1) | (df.Month == 2) | (df.Month == 3)), 5)\n",
    "df.Quarter = df.Quarter.mask( (df.Year == 2014) & ((df.Month == 4) | (df.Month == 5) | (df.Month == 6)), 6)"
   ]
  },
  {
   "cell_type": "code",
   "execution_count": 19,
   "metadata": {},
   "outputs": [
    {
     "data": {
      "image/png": "[encoded data removed]",
      "text/plain": [
       "<Figure size 720x504 with 1 Axes>"
      ]
     },
     "metadata": {},
     "output_type": "display_data"
    }
   ],
   "source": [
    "from matplotlib import pyplot as plt\n",
    "\n",
    "%matplotlib inline \n",
    "abcd = df.copy()\n",
    "abcd['Promo'] = np.nan\n",
    "abcd.Promo = abcd.Promo.mask( abcd.Promotion_Name == 'No Promotion', 'No Promotion')\n",
    "abcd.Promo = abcd.Promo.mask( abcd.Promotion_Name != 'No Promotion', 'Promotion')\n",
    "\n",
    "abcd = abcd[abcd['Rented'] == 1]\n",
    "abcdp = abcd[abcd['Promo'] == 'Promotion']\n",
    "abcdnp = abcd[abcd['Promo'] == 'No Promotion']\n",
    "\n",
    "AVG1 = abcdnp.groupby('Quarter')['AmountEarned'].mean() - abcdp.groupby('Quarter')['AmountEarned'].mean()\n",
    "\n",
    "fig, ax = plt.subplots(figsize=(10,7))\n",
    "AVG1.plot.bar(ax = ax)\n",
    "plt.title('Difference between the Average Revenue by a Customer Without Promotion and With Promotion Quarterly')\n",
    "plt.xlabel('Quarter')\n",
    "plt.ylabel('Avg Revenue With Promotion - Avg Revenue Without Promotion')\n",
    "ax.grid()\n",
    "plt.show()"
   ]
  },
  {
   "cell_type": "code",
   "execution_count": 20,
   "metadata": {},
   "outputs": [
    {
     "data": {
      "image/png": "[encoded data removed]",
      "text/plain": [
       "<Figure size 720x864 with 2 Axes>"
      ]
     },
     "metadata": {},
     "output_type": "display_data"
    }
   ],
   "source": [
    "nopromean = abcdnp.groupby('Quarter')['AmountEarned'].mean()\n",
    "yespromean = abcdp.groupby('Quarter')['AmountEarned'].mean()\n",
    "\n",
    "noprocount = abcdnp.groupby('Quarter')['AmountEarned'].count()\n",
    "yesprocount = abcdp.groupby('Quarter')['AmountEarned'].count()\n",
    "\n",
    "fig, axes= plt.subplots(nrows=2, ncols=1,figsize=(10,12))\n",
    "\n",
    "axes[0].plot(yespromean,label='Promotion')\n",
    "axes[0].plot(nopromean,label='No Promotion')\n",
    "axes[0].legend()\n",
    "axes[0].set_title('Variation of Average Revenue Per Customer for Each Quarter')\n",
    "axes[0].set_xlabel('Quarter')\n",
    "axes[0].set_ylabel('Average Revenue')\n",
    "\n",
    "axes[1].plot(yesprocount,label='Promotion')\n",
    "axes[1].plot(noprocount,label='No Promotion')\n",
    "axes[1].legend()\n",
    "axes[1].set_title('Variation of Number Of Customers for Each Quarter')\n",
    "axes[1].set_xlabel('Quarter')\n",
    "axes[1].set_ylabel('Number of Customers')\n",
    "\n",
    "plt.show()"
   ]
  },
  {
   "cell_type": "code",
   "execution_count": 21,
   "metadata": {},
   "outputs": [
    {
     "name": "stdout",
     "output_type": "stream",
     "text": [
      "Difference in Avg Revenue With and Without Promotion for Every Quarter [60.27413798547764, 49.348163488445834, 22.06865925402394, 83.29524563348019, 19.23278083848595, -21.187078558100296]\n",
      "\n",
      "\n",
      "Average Reduction in (Amount Earned W/O Promotion - W/ Promotion For Every Quarter)) 35.50531810696888\n",
      "\n",
      "\n",
      "Number of Quarters Required to Make the Promotion Profitable Following the trend 5.814168714043318\n"
     ]
    }
   ],
   "source": [
    "change = []\n",
    "\n",
    "for i in range(0,6,1):\n",
    "\n",
    "    ch = AVG1[i] - AVG1[i+1]\n",
    "    change.append(ch)\n",
    "    \n",
    "print ('Difference in Avg Revenue With and Without Promotion for Every Quarter', change)\n",
    "\n",
    "print('\\n')\n",
    "avgchange = (change[0] + change[1]+ change[2]+ change[3]+ change[4]+ change[5])/6\n",
    "print ('Average Reduction in (Amount Earned W/O Promotion - W/ Promotion For Every Quarter))',avgchange)\n",
    "\n",
    "print ('\\n')\n",
    "breake = AVG1[6]/avgchange\n",
    "print ('Number of Quarters Required to Make the Promotion Profitable Following the trend',breake)"
   ]
  },
  {
   "cell_type": "markdown",
   "metadata": {},
   "source": [
    "## Avg Revenue W/ Promotion - Avg Revenue W/O Promotion For Every Month  "
   ]
  },
  {
   "cell_type": "code",
   "execution_count": 22,
   "metadata": {},
   "outputs": [
    {
     "data": {
      "image/png": "[encoded data removed]",
      "text/plain": [
       "<Figure size 1080x720 with 1 Axes>"
      ]
     },
     "metadata": {},
     "output_type": "display_data"
    }
   ],
   "source": [
    "df['YearMonth'] = df['Move_In_Date'].map(lambda x: 100*x.year + x.month)\n",
    "\n",
    "abcd = df.copy()\n",
    "abcd['Promo'] = np.nan\n",
    "abcd.Promo = abcd.Promo.mask( abcd.Promotion_Name == 'No Promotion', 'No Promotion')\n",
    "abcd.Promo = abcd.Promo.mask( abcd.Promotion_Name != 'No Promotion', 'Promotion')\n",
    "\n",
    "abcd = abcd[abcd['Rented'] == 1]\n",
    "abcdp = abcd[abcd['Promo'] == 'Promotion']\n",
    "abcdnp = abcd[abcd['Promo'] == 'No Promotion']\n",
    "\n",
    "\n",
    "AVG2 = abcdnp.groupby('YearMonth')['AmountEarned'].mean() - abcdp.groupby('YearMonth')['AmountEarned'].mean()\n",
    "\n",
    "fig, ax = plt.subplots(figsize=(15,10))\n",
    "AVG2.plot.bar(ax = ax)\n",
    "plt.title('Difference between the Average Revenue by a Customer Without Promotion and With Promotion Monthly')\n",
    "plt.xlabel('Month')\n",
    "plt.ylabel('Avg Revenue With Promotion - Avg Revenue Without Promotion')\n",
    "ax.grid()\n",
    "plt.show()"
   ]
  },
  {
   "cell_type": "code",
   "execution_count": 23,
   "metadata": {},
   "outputs": [
    {
     "data": {
      "image/png": "[encoded data removed]",
      "text/plain": [
       "<Figure size 720x864 with 2 Axes>"
      ]
     },
     "metadata": {},
     "output_type": "display_data"
    }
   ],
   "source": [
    "nopromeany = abcdnp.groupby('YearMonth')['AmountEarned'].mean()\n",
    "yespromeany = abcdp.groupby('YearMonth')['AmountEarned'].mean()\n",
    "\n",
    "noprocounty = abcdnp.groupby('YearMonth')['AmountEarned'].count()\n",
    "yesprocounty = abcdp.groupby('YearMonth')['AmountEarned'].count()\n",
    "\n",
    "fig, axes= plt.subplots(nrows=2, ncols=1,figsize=(10,12))\n",
    "\n",
    "axes[0].plot(yespromeany,label='Promotion')\n",
    "axes[0].plot(nopromeany,label='No Promotion')\n",
    "axes[0].legend()\n",
    "axes[0].set_title('Variation of Average Revenue Per Customer for Each Quarter')\n",
    "axes[0].set_xlabel('Month')\n",
    "axes[0].set_ylabel('Average Revenue')\n",
    "axes[0].xaxis.set_major_formatter(plt.NullFormatter())\n",
    "\n",
    "\n",
    "axes[1].plot(yesprocounty,label='Promotion')\n",
    "axes[1].plot(noprocounty,label='No Promotion')\n",
    "axes[1].legend()\n",
    "axes[1].set_title('Variation of Number Of Customers for Each Quarter')\n",
    "axes[1].set_xlabel('Month')\n",
    "axes[1].set_ylabel('Number of Customers')\n",
    "axes[1].xaxis.set_major_formatter(plt.NullFormatter())\n",
    "\n",
    "plt.show()"
   ]
  },
  {
   "cell_type": "markdown",
   "metadata": {},
   "source": [
    "### We see that The Promotions, bought in an increase in the number of customers, but the Average Revenue by a customer without promotion is high than a Average Revenue by a with promotion - So, the promotion is not a success in revenue perspective of view.  "
   ]
  },
  {
   "cell_type": "markdown",
   "metadata": {},
   "source": [
    "### Also, with the following trend, we can see that with the next 6 quarters, there is a possiblity that the Average Revenue With Promotion will be higher than Average Revenue without promotion - So there is a high chance that after 6 quarters ~ 1.5 Years, we might see a success in giving promotion"
   ]
  },
  {
   "cell_type": "markdown",
   "metadata": {},
   "source": [
    "### Also, the total number of reservations required to breakeven the current loss incurred by promotion, taking the number of people who reserve and don't use is ~ 3956 Customers "
   ]
  },
  {
   "cell_type": "markdown",
   "metadata": {},
   "source": [
    "# --------------------------------------------------------------------------------------------"
   ]
  },
  {
   "cell_type": "markdown",
   "metadata": {},
   "source": [
    "# Qn 2  - Free month promotions are effectively a discount for the customer, though hopefully generate some ultimate benefit to revenue.  Using the dataset, can you assess how much incremental revenue is generated (or lost) from the free month promotions?"
   ]
  },
  {
   "cell_type": "code",
   "execution_count": 24,
   "metadata": {},
   "outputs": [
    {
     "name": "stderr",
     "output_type": "stream",
     "text": [
      "/Users/arvindramkumar/anaconda3/lib/python3.6/site-packages/matplotlib/axes/_axes.py:6462: UserWarning: The 'normed' kwarg is deprecated, and has been replaced by the 'density' kwarg.\n",
      "  warnings.warn(\"The 'normed' kwarg is deprecated, and has been \"\n",
      "/Users/arvindramkumar/anaconda3/lib/python3.6/site-packages/ipykernel_launcher.py:7: MatplotlibDeprecationWarning: scipy.stats.norm.pdf\n",
      "  import sys\n"
     ]
    },
    {
     "data": {
      "image/png": "[encoded data removed]",
      "text/plain": [
       "<Figure size 432x288 with 1 Axes>"
      ]
     },
     "metadata": {},
     "output_type": "display_data"
    }
   ],
   "source": [
    "from matplotlib import pyplot as plt\n",
    "import matplotlib.mlab as mlab\n",
    "\n",
    "n, bins, patches = plt.hist(df.AmountEarned, 50, normed=1)\n",
    "mu = np.mean(df.AmountEarned)\n",
    "sigma = np.std(df.AmountEarned)\n",
    "plt.plot(bins, mlab.normpdf(bins, mu, sigma))\n",
    "plt.title('Distribution of Amount Earned')\n",
    "plt.show()"
   ]
  },
  {
   "cell_type": "code",
   "execution_count": 25,
   "metadata": {},
   "outputs": [
    {
     "name": "stderr",
     "output_type": "stream",
     "text": [
      "/Users/arvindramkumar/anaconda3/lib/python3.6/site-packages/ipykernel_launcher.py:7: SettingWithCopyWarning: \n",
      "A value is trying to be set on a copy of a slice from a DataFrame.\n",
      "Try using .loc[row_indexer,col_indexer] = value instead\n",
      "\n",
      "See the caveats in the documentation: http://pandas.pydata.org/pandas-docs/stable/indexing.html#indexing-view-versus-copy\n",
      "  import sys\n"
     ]
    }
   ],
   "source": [
    "from scipy.stats import boxcox\n",
    "\n",
    "# Transformation cant be performed when the data is Zero, Log of Zero is Undefined. So We Drop \\it \n",
    "df1 = df[(df.AmountEarned != 0) & (df.Difference != 0)]\n",
    "\n",
    "# Transformation \n",
    "df1['AmountEarned'] = boxcox(df1['AmountEarned'], 0)"
   ]
  },
  {
   "cell_type": "code",
   "execution_count": 26,
   "metadata": {},
   "outputs": [
    {
     "name": "stderr",
     "output_type": "stream",
     "text": [
      "/Users/arvindramkumar/anaconda3/lib/python3.6/site-packages/matplotlib/axes/_axes.py:6462: UserWarning: The 'normed' kwarg is deprecated, and has been replaced by the 'density' kwarg.\n",
      "  warnings.warn(\"The 'normed' kwarg is deprecated, and has been \"\n",
      "/Users/arvindramkumar/anaconda3/lib/python3.6/site-packages/ipykernel_launcher.py:7: MatplotlibDeprecationWarning: scipy.stats.norm.pdf\n",
      "  import sys\n"
     ]
    },
    {
     "data": {
      "image/png": "[encoded data removed]",
      "text/plain": [
       "<Figure size 432x288 with 1 Axes>"
      ]
     },
     "metadata": {},
     "output_type": "display_data"
    }
   ],
   "source": [
    "from matplotlib import pyplot as plt\n",
    "import matplotlib.mlab as mlab\n",
    "\n",
    "n, bins, patches = plt.hist(df1.AmountEarned, 50, normed=1)\n",
    "mu = np.mean(df1.AmountEarned)\n",
    "sigma = np.std(df1.AmountEarned)\n",
    "plt.plot(bins, mlab.normpdf(bins, mu, sigma))\n",
    "plt.title('Distribution of Amount Earned after Transformation')\n",
    "plt.show()"
   ]
  },
  {
   "cell_type": "markdown",
   "metadata": {},
   "source": [
    "### T test to compare the Means of Promotions and No Promotions  "
   ]
  },
  {
   "cell_type": "markdown",
   "metadata": {},
   "source": [
    "Now, our motive is to understand whether Promotions was more significant than No Promotions. For this we consider only the cases where the customer actually did rent (Rented? = True). \n",
    "\n",
    "For understanding the success, we compare the average revenue bought by a single customer without promotions against the average revenue bought by a customer with Promotions. The Average Revenue bought by the customer with promotions should be at least equal or greater than the Average Revenue bought by the customer without promotion. \n",
    "\n",
    "Since, the data is normally distributed (After the transformation) and Independent, we can perform t- test to compare the means of these two. \n",
    "\n",
    "Average Revenue with Promotions – µ_1 | Average Revenue without Promotions – µ_2\n",
    "\n",
    "Null Hypothesis – H0 : µ_1=  µ_2 | Alternate Hypothesis – H1 : µ_1 >  µ_2\n",
    "\n",
    "Here, as far as this problem is concerned, it is preferable to do Welch’s T test, because there is high possibility that the Variance of these samples might not be equal. \n",
    "\n",
    "So, for the Rejection Criteria for the Null Hypothesis, the test statistic < -t (α,V). Since the Degree of Freedom is Really high, we choose the comparing statistic to be 1.96 (From t table). \n",
    "\n",
    "Also, If p-value is less than 0.5, it also rejects the null hypothesis. \n"
   ]
  },
  {
   "cell_type": "code",
   "execution_count": 27,
   "metadata": {},
   "outputs": [
    {
     "name": "stdout",
     "output_type": "stream",
     "text": [
      "Reject Null Hypothesis, mean of No Promotion is greater than mean of Promotions\n"
     ]
    }
   ],
   "source": [
    "from scipy.stats import ttest_ind\n",
    "\n",
    "promotion = df1[(df1['Promotion_Name'] != 'No Promotion')]\n",
    "nopromotion = df1[(df1['Promotion_Name'] == 'No Promotion')]\n",
    "\n",
    "# t test for comparing whether or not Averarge Amount Earned with Promotion > Amount without Promotion\n",
    "\n",
    "results = ttest_ind(promotion.AmountEarned, nopromotion.AmountEarned, equal_var=False)\n",
    "\n",
    "alpha = 0.05\n",
    "if ((results[0] < 0) & (results[1]/2 < alpha)):\n",
    "    print (\"Reject Null Hypothesis, mean of {} is greater than mean of {}\".format('No Promotion','Promotions'))\n",
    "else:\n",
    "    print (\"Accept Null Hypothesis\")"
   ]
  },
  {
   "cell_type": "code",
   "execution_count": 28,
   "metadata": {},
   "outputs": [
    {
     "name": "stdout",
     "output_type": "stream",
     "text": [
      "The Difference between Average Revenue Per Customer W/0 Promotions and W/ Promotions is  289.08627012480076\n"
     ]
    }
   ],
   "source": [
    "AVG3 = abcdnp['AmountEarned'].mean() - abcdp['AmountEarned'].mean()\n",
    "print ('The Difference between Average Revenue Per Customer W/0 Promotions and W/ Promotions is ', AVG3)"
   ]
  },
  {
   "cell_type": "markdown",
   "metadata": {},
   "source": [
    "### We Compare, the Revenue from Customer With Promotion and Revenue from Customer without Promotion, and the mean of them is compared statistically using T-Test, and we see that Avg Without Promotion < Avg With Promotion. This is means that the Promotion wasn't a success. "
   ]
  },
  {
   "cell_type": "markdown",
   "metadata": {},
   "source": [
    "### Also, the incremental loss was given by (Avg without Promotion - Avg with Promotion) = 289.0862 Dollars Loss "
   ]
  },
  {
   "cell_type": "markdown",
   "metadata": {},
   "source": [
    "# --------------------------------------------------------------------------------------------"
   ]
  },
  {
   "cell_type": "markdown",
   "metadata": {},
   "source": [
    "# Qn 3 - To what degree does the length of customers' stays impact your responses above and how should it be considered?  What is the most appropriate way to consider customer length of stay, given the number of customers still renting?"
   ]
  },
  {
   "cell_type": "markdown",
   "metadata": {},
   "source": [
    "The Customer's Length of Stay is the most crucial part in the analysis. The Revenue Generated is Entirely Dependent on the length of the customer stay. \n",
    "\n",
    "Here, we have made an assumption that, the customer did move out on the day we collected the data (06/11/2014). But this is a very vague approximation. \n",
    "\n",
    "There is a sophisticated way to obtain the length of the customer's stay. \n",
    "\n",
    "\n",
    "We are sure about the Region in which the customer rent and also the Purpose and the Reason for the Storage (Available for most of the Rented = 1). \n",
    "\n",
    "\n",
    "With these three approximation, it is possible to have a better estimate of the length of stay of the customer. \n",
    "\n",
    "Say, there are a few Customer - Renting in Arizona | Purpose of Business | Storage of business Inventory. There could be 10 such customers with the same set of parameters, and out of which 6 might have moved out and 4 didn't. We average the length of stay of the 6 customers and use that Average as the length of stay for other 4 customers who didn't move out and proceed with analysis. \n",
    "\n",
    "But, sometimes it is impossible to make it work for all possible combinations of three variables. If that is the case, we can use purpose and Region, and even for a very few cases these two combination might not work and that case, we can use the average stay of a customer based on region and this average could be used for customers who didn't move. "
   ]
  },
  {
   "cell_type": "markdown",
   "metadata": {},
   "source": [
    "# --------------------------------------------------------------------------------------------"
   ]
  },
  {
   "cell_type": "markdown",
   "metadata": {},
   "source": [
    "# Qn 4 - How do customer type (based on survey responses), geographic/regional variations, reservation channel, and price concessions impact consideration of (1) and (2) above?|"
   ]
  },
  {
   "cell_type": "markdown",
   "metadata": {},
   "source": [
    "## Region  "
   ]
  },
  {
   "cell_type": "markdown",
   "metadata": {},
   "source": [
    "### T test for Individual Regions  "
   ]
  },
  {
   "cell_type": "code",
   "execution_count": 29,
   "metadata": {},
   "outputs": [
    {
     "name": "stdout",
     "output_type": "stream",
     "text": [
      "Inland Empire - Reject Null Hypothesis\n",
      "Colorado / Utah - Reject Null Hypothesis\n",
      "Florida Markets - Other - Reject Null Hypothesis\n",
      "Other Southeast - Reject Null Hypothesis\n",
      "Baltimore / DC - Reject Null Hypothesis\n",
      "New York / Northern NJ - Reject Null Hypothesis\n",
      "Ohio - Reject Null Hypothesis\n",
      "Southern California - Reject Null Hypothesis\n",
      "Other Midwest - Reject Null Hypothesis\n",
      "Boston - Reject Null Hypothesis\n",
      "Other Northeast - Reject Null Hypothesis\n",
      "Arizona / Las Vegas - Reject Null Hypothesis\n",
      "Other West - Accept Null Hypothesis\n",
      "Atlanta - Reject Null Hypothesis\n",
      "Texas Markets - Major - Reject Null Hypothesis\n",
      "Connecticut - Reject Null Hypothesis\n",
      "Miami / Ft. Lauderdale - Reject Null Hypothesis\n",
      "Tennessee - Reject Null Hypothesis\n",
      "Chicago - Accept Null Hypothesis\n",
      "Philadelphia / Southern NJ - Reject Null Hypothesis\n"
     ]
    }
   ],
   "source": [
    "from scipy.stats import ttest_ind\n",
    "\n",
    "abc = df1.Region.unique()\n",
    "Regions = abc\n",
    "\n",
    "for i in Regions: \n",
    "    \n",
    "    dfregion = df1[df1['Region'] == i]\n",
    "\n",
    "    promotion = dfregion[(dfregion['Promotion_Name'] != 'No Promotion')]\n",
    "    nopromotion = dfregion[(dfregion['Promotion_Name'] == 'No Promotion')]\n",
    "\n",
    "    # t test for comparing whether or not Averarge Amount Earned with Promotion > Amount without Promotion\n",
    "\n",
    "    results = ttest_ind(promotion.AmountEarned, nopromotion.AmountEarned, equal_var=False)\n",
    "\n",
    "    alpha = 0.05\n",
    "    if ((results[0] < 0) & (results[1]/2 < alpha)):\n",
    "        print (\"{} - Reject Null Hypothesis\".format(i))\n",
    "    else:\n",
    "        print (\"{} - Accept Null Hypothesis\".format(i))"
   ]
  },
  {
   "cell_type": "markdown",
   "metadata": {},
   "source": [
    "### Visualize the Above Result In Graph  "
   ]
  },
  {
   "cell_type": "code",
   "execution_count": 30,
   "metadata": {},
   "outputs": [
    {
     "data": {
      "image/png": "[encoded data removed]",
      "text/plain": [
       "<Figure size 720x540 with 1 Axes>"
      ]
     },
     "metadata": {},
     "output_type": "display_data"
    }
   ],
   "source": [
    "AVG4 = abcdnp.groupby('Region')['AmountEarned'].mean() - abcdp.groupby('Region')['AmountEarned'].mean()\n",
    "\n",
    "fig, ax = plt.subplots(figsize=(10,7.5))\n",
    "AVG4.plot.bar(ax = ax)\n",
    "plt.title('Difference between the Average Revenue by a Customer Without Promotion and With Promotion Regionwise')\n",
    "plt.xlabel('Region')\n",
    "plt.ylabel('Avg Revenue With Promotion - Avg Revenue Without Promotion')\n",
    "ax.grid()\n",
    "plt.show()"
   ]
  },
  {
   "cell_type": "markdown",
   "metadata": {},
   "source": [
    "### The Region wise actually will vary the entire concept of promotion. We see that only Chicago and Other West had a significant positive impact on Promotion and we might consider to stop giving the promotion in Regions like Ohio, Arizona, Tennessee.  "
   ]
  },
  {
   "cell_type": "markdown",
   "metadata": {},
   "source": [
    "### This Inference is also backed up by the T Test performed between Avg Revenue with Promotion and Avg revenue without promotion for individual regions"
   ]
  },
  {
   "cell_type": "markdown",
   "metadata": {},
   "source": [
    "## Reservation Channel  "
   ]
  },
  {
   "cell_type": "markdown",
   "metadata": {},
   "source": [
    "### T test for Individual Reservation Channel "
   ]
  },
  {
   "cell_type": "code",
   "execution_count": 31,
   "metadata": {},
   "outputs": [
    {
     "name": "stdout",
     "output_type": "stream",
     "text": [
      "Web Reservation - Reject Null Hypothesis\n",
      "Sales Center Reservation - Reject Null Hypothesis\n",
      "Store Reservation - Reject Null Hypothesis\n"
     ]
    }
   ],
   "source": [
    "from scipy.stats import ttest_ind\n",
    "\n",
    "abc = df1.Source.unique()\n",
    "Sources = abc\n",
    "\n",
    "for i in Sources: \n",
    "    \n",
    "    dfsources = df1[df1['Source'] == i]\n",
    "\n",
    "    promotion = dfsources[(dfsources['Promotion_Name'] != 'No Promotion')]\n",
    "    nopromotion = dfsources[(dfsources['Promotion_Name'] == 'No Promotion')]\n",
    "\n",
    "    # t test for comparing whether or not Averarge Amount Earned with Promotion > Amount without Promotion\n",
    "\n",
    "    results = ttest_ind(promotion.AmountEarned, nopromotion.AmountEarned, equal_var=False)\n",
    "\n",
    "    alpha = 0.05\n",
    "    if ((results[0] < 0) & (results[1]/2 < alpha)):\n",
    "        print (\"{} - Reject Null Hypothesis\".format(i))\n",
    "    else:\n",
    "        print (\"{} - Accept Null Hypothesis\".format(i))"
   ]
  },
  {
   "cell_type": "markdown",
   "metadata": {},
   "source": [
    "### Visualize Above Result in Graph  "
   ]
  },
  {
   "cell_type": "code",
   "execution_count": 32,
   "metadata": {},
   "outputs": [
    {
     "data": {
      "image/png": "[encoded data removed]",
      "text/plain": [
       "<Figure size 720x540 with 1 Axes>"
      ]
     },
     "metadata": {},
     "output_type": "display_data"
    }
   ],
   "source": [
    "AVG4 = abcdnp.groupby('Source')['AmountEarned'].mean() - abcdp.groupby('Source')['AmountEarned'].mean()\n",
    "\n",
    "fig, ax = plt.subplots(figsize=(10,7.5))\n",
    "AVG4.plot.bar(ax = ax)\n",
    "\n",
    "plt.title('Difference between the Average Revenue by a Customer Without Promotion and With Promotion by Reservation Channel')\n",
    "plt.xlabel('Reservation Channel')\n",
    "plt.ylabel('Avg Revenue With Promotion - Avg Revenue Without Promotion')\n",
    "ax.grid()\n",
    "plt.show()"
   ]
  },
  {
   "cell_type": "markdown",
   "metadata": {},
   "source": [
    "### None of the reservation channel did support the promotions as well. In Every of the Reservation Channel, we see that Avg Revenue With Promotion < Avg Revenue Without Promotion, and it is also supported by the T Test performed above "
   ]
  },
  {
   "cell_type": "markdown",
   "metadata": {},
   "source": [
    "## Concession "
   ]
  },
  {
   "cell_type": "markdown",
   "metadata": {},
   "source": [
    "### T test for concession  "
   ]
  },
  {
   "cell_type": "code",
   "execution_count": 33,
   "metadata": {},
   "outputs": [
    {
     "name": "stderr",
     "output_type": "stream",
     "text": [
      "/Users/arvindramkumar/anaconda3/lib/python3.6/site-packages/ipykernel_launcher.py:1: SettingWithCopyWarning: \n",
      "A value is trying to be set on a copy of a slice from a DataFrame.\n",
      "Try using .loc[row_indexer,col_indexer] = value instead\n",
      "\n",
      "See the caveats in the documentation: http://pandas.pydata.org/pandas-docs/stable/indexing.html#indexing-view-versus-copy\n",
      "  \"\"\"Entry point for launching an IPython kernel.\n",
      "/Users/arvindramkumar/anaconda3/lib/python3.6/site-packages/pandas/core/generic.py:4401: SettingWithCopyWarning: \n",
      "A value is trying to be set on a copy of a slice from a DataFrame.\n",
      "Try using .loc[row_indexer,col_indexer] = value instead\n",
      "\n",
      "See the caveats in the documentation: http://pandas.pydata.org/pandas-docs/stable/indexing.html#indexing-view-versus-copy\n",
      "  self[name] = value\n"
     ]
    }
   ],
   "source": [
    "df1['con'] = np.nan\n",
    "df1.con = df1.con.mask( df1.Concession == 0.0, 'No')\n",
    "df1.con = df1.con.mask( df1.Concession != 0.0, 'Yes')"
   ]
  },
  {
   "cell_type": "code",
   "execution_count": 34,
   "metadata": {},
   "outputs": [
    {
     "name": "stdout",
     "output_type": "stream",
     "text": [
      "No - Reject Null Hypothesis\n",
      "Yes - Reject Null Hypothesis\n"
     ]
    }
   ],
   "source": [
    "from scipy.stats import ttest_ind\n",
    "\n",
    "abc = df1.con.unique()\n",
    "Concessions = abc\n",
    "\n",
    "for i in Concessions: \n",
    "    \n",
    "    dfConcession = df1[df1['con'] == i]\n",
    "\n",
    "    promotion = dfConcession[(dfConcession['Promotion_Name'] != 'No Promotion')]\n",
    "    nopromotion = dfConcession[(dfConcession['Promotion_Name'] == 'No Promotion')]\n",
    "\n",
    "    # t test for comparing whether or not Averarge Amount Earned with Promotion > Amount without Promotion\n",
    "\n",
    "    results = ttest_ind(promotion.AmountEarned, nopromotion.AmountEarned, equal_var=False)\n",
    "\n",
    "    alpha = 0.05\n",
    "    if ((results[0] < 0) & (results[1]/2 < alpha)):\n",
    "        print (\"{} - Reject Null Hypothesis\".format(i))\n",
    "    else:\n",
    "        exit()"
   ]
  },
  {
   "cell_type": "markdown",
   "metadata": {},
   "source": [
    "### The Concession is approximated into whether Concession was given or Not. And with Concession, Yes or No, the result still stays the same. Avg Revenue With Promotion < Avg Revenue Without Promotion for Both Concession Type  "
   ]
  },
  {
   "cell_type": "markdown",
   "metadata": {},
   "source": [
    "But, may be if we categorize the Concession for 20 bins, between 0 - 5% and so on, may be certain percentage of concession might actually will give a better result, for which the revenue was better with Promotion "
   ]
  },
  {
   "cell_type": "markdown",
   "metadata": {},
   "source": [
    "# --------------------------------------------------------------------------------------------"
   ]
  },
  {
   "cell_type": "markdown",
   "metadata": {},
   "source": [
    "# Qn 5 - What type of restrictions and/or creative adjustments to the structure of the free month promotions would you recommend in order to increase the profitability of the promotion?  Can these recommendations be justified by the data provided?"
   ]
  },
  {
   "cell_type": "markdown",
   "metadata": {},
   "source": [
    "There are two major problems that we encounter \n",
    "\n",
    "1. Because of Monthly Lease, we are unsure of the lenght of the stay\n",
    "2. The Promotion offer is given out at random and that is not how it has to be done. There should be a criteria for the promotion offer \n",
    "\n",
    "Problems: \n",
    "\n",
    "1. There are few Customers, who will get the promotional offer (One Month Free) and they Move Out Next Month. So the effective revenue is zero. There is difference between a customer offered Promotional Offer and then stay for just one month and Customer offered promotional offer and stayed for a prolonged period\n",
    "\n",
    "2. There are few customers who are staying for a prolonged period and they dont get any promotional offer, that need to be considered, in the customer retention point of view \n",
    "\n",
    "Solution \n",
    "\n",
    "1. The Promotional Offer should be given to the customers who are disclosing their length of stay prior in hand. Or if they are ready to make a commitment for atleast say 5 - 6 Months they could be eligible for the promotional offer. Depending on the number of months they are willing to sign the lease, we could modify the customers Promotional Offer. \n",
    "\n",
    "2. If they are sure that they are going to stay for less than two months or just one month, instead of full month free, we can give half month free promotion. \n",
    "\n",
    "3. Another advantage of knowing the customer length of stay is, Say a customer plans to rent for 10 Months and Pthe rent per month is 10 Dollars. If we offer him the first month ptomotion, and can increase the rent by just 1 Dollar, we can still break even our actual expectation. \n",
    "\n",
    "4. Or as I said above, dealing with the Length of the stay of the customer, if we are able to develop an algorithm that can predict the average stay of the customer, based on this average length, we get the input from customers for their purpose and Storage Reason, we can predict what their average stay would be and then offer them promotion based on that. This could be more accurate than forcing the customers to disclose their length of stay to be eligible for promotion offer \n"
   ]
  },
  {
   "cell_type": "markdown",
   "metadata": {},
   "source": [
    "# --------------------------------------------------------------------------------------------"
   ]
  },
  {
   "cell_type": "markdown",
   "metadata": {},
   "source": [
    "# Qn 6 - What additional information would be helpful to have to better determine the profitability of the First Month Free promotion?"
   ]
  },
  {
   "cell_type": "markdown",
   "metadata": {},
   "source": [
    "1. If we had known the revenue or number of customers for any period (Without Promotion) before or after the given time period, it will be possible to know the success \n",
    "2. If we know the target Revenue, or the target number of customers, it could help us in understanding the success"
   ]
  },
  {
   "cell_type": "markdown",
   "metadata": {},
   "source": [
    "# --------------------------------------------------------------------------------------------"
   ]
  },
  {
   "cell_type": "markdown",
   "metadata": {},
   "source": [
    "# Qn 7 - Estimate probabilistically the likelihood that CubeSmart received more rentals as of result of offering promotions"
   ]
  },
  {
   "cell_type": "code",
   "execution_count": 35,
   "metadata": {},
   "outputs": [
    {
     "data": {
      "image/png": "[encoded data removed]",
      "text/plain": [
       "<Figure size 720x540 with 1 Axes>"
      ]
     },
     "metadata": {},
     "output_type": "display_data"
    }
   ],
   "source": [
    "AVG5 = abcdnp.groupby('Quarter')['AmountEarned'].count() / abcdp.groupby('Quarter')['AmountEarned'].count()\n",
    "\n",
    "fig, ax = plt.subplots(figsize=(10,7.5))\n",
    "AVG5.plot.bar(ax = ax)\n",
    "\n",
    "plt.title('Ration between the Number of Customer Without Promotion to With Promotion, Quarterly')\n",
    "plt.xlabel('Quarter')\n",
    "plt.ylabel('#Customers with Promotion / #Customers without Promotion')\n",
    "ax.grid()\n",
    "plt.show()"
   ]
  },
  {
   "cell_type": "code",
   "execution_count": 36,
   "metadata": {},
   "outputs": [
    {
     "data": {
      "text/plain": [
       "Quarter\n",
       "0    0.473745\n",
       "1    0.393121\n",
       "2    0.394259\n",
       "3    0.513031\n",
       "4    0.671265\n",
       "5    0.270421\n",
       "6    0.305970\n",
       "Name: AmountEarned, dtype: float64"
      ]
     },
     "execution_count": 36,
     "metadata": {},
     "output_type": "execute_result"
    }
   ],
   "source": [
    "AVG5"
   ]
  },
  {
   "cell_type": "code",
   "execution_count": 37,
   "metadata": {},
   "outputs": [
    {
     "data": {
      "image/png": "[encoded data removed]",
      "text/plain": [
       "<Figure size 1080x720 with 1 Axes>"
      ]
     },
     "metadata": {},
     "output_type": "display_data"
    }
   ],
   "source": [
    "AVG6 = abcdnp.groupby('YearMonth')['AmountEarned'].count() / abcdp.groupby('YearMonth')['AmountEarned'].count()\n",
    "\n",
    "fig, ax = plt.subplots(figsize=(15,10))\n",
    "AVG6.plot.bar(ax = ax)\n",
    "plt.title('Ration between the Number of Customer Without Promotion to With Promotion, Monthly')\n",
    "plt.xlabel('Month')\n",
    "plt.ylabel('#Customers with Promotion / #Customers without Promotion')\n",
    "ax.grid()\n",
    "plt.show()"
   ]
  },
  {
   "cell_type": "markdown",
   "metadata": {},
   "source": [
    "### The above two graphs represent the Ratio of Number of Customers With Promotion To Number of Customers without Promotion, Quarterly and Monthly Basis. "
   ]
  },
  {
   "cell_type": "code",
   "execution_count": 38,
   "metadata": {},
   "outputs": [
    {
     "data": {
      "text/html": [
       "<div>\n",
       "<style scoped>\n",
       "    .dataframe tbody tr th:only-of-type {\n",
       "        vertical-align: middle;\n",
       "    }\n",
       "\n",
       "    .dataframe tbody tr th {\n",
       "        vertical-align: top;\n",
       "    }\n",
       "\n",
       "    .dataframe thead tr th {\n",
       "        text-align: left;\n",
       "    }\n",
       "\n",
       "    .dataframe thead tr:last-of-type th {\n",
       "        text-align: right;\n",
       "    }\n",
       "</style>\n",
       "<table border=\"1\" class=\"dataframe\">\n",
       "  <thead>\n",
       "    <tr>\n",
       "      <th></th>\n",
       "      <th></th>\n",
       "      <th colspan=\"3\" halign=\"left\">AmountEarned</th>\n",
       "    </tr>\n",
       "    <tr>\n",
       "      <th></th>\n",
       "      <th></th>\n",
       "      <th>sum</th>\n",
       "      <th>count</th>\n",
       "      <th>mean</th>\n",
       "    </tr>\n",
       "    <tr>\n",
       "      <th>Promo</th>\n",
       "      <th>Rented</th>\n",
       "      <th></th>\n",
       "      <th></th>\n",
       "      <th></th>\n",
       "    </tr>\n",
       "  </thead>\n",
       "  <tbody>\n",
       "    <tr>\n",
       "      <th rowspan=\"2\" valign=\"top\">No Promotion</th>\n",
       "      <th>0</th>\n",
       "      <td>0.00</td>\n",
       "      <td>8509</td>\n",
       "      <td>0.000000</td>\n",
       "    </tr>\n",
       "    <tr>\n",
       "      <th>1</th>\n",
       "      <td>10098662.44</td>\n",
       "      <td>11278</td>\n",
       "      <td>895.430257</td>\n",
       "    </tr>\n",
       "    <tr>\n",
       "      <th rowspan=\"2\" valign=\"top\">Promotion</th>\n",
       "      <th>0</th>\n",
       "      <td>0.00</td>\n",
       "      <td>13461</td>\n",
       "      <td>0.000000</td>\n",
       "    </tr>\n",
       "    <tr>\n",
       "      <th>1</th>\n",
       "      <td>15407200.71</td>\n",
       "      <td>25410</td>\n",
       "      <td>606.343987</td>\n",
       "    </tr>\n",
       "  </tbody>\n",
       "</table>\n",
       "</div>"
      ],
      "text/plain": [
       "                    AmountEarned                   \n",
       "                             sum  count        mean\n",
       "Promo        Rented                                \n",
       "No Promotion 0              0.00   8509    0.000000\n",
       "             1       10098662.44  11278  895.430257\n",
       "Promotion    0              0.00  13461    0.000000\n",
       "             1       15407200.71  25410  606.343987"
      ]
     },
     "execution_count": 38,
     "metadata": {},
     "output_type": "execute_result"
    }
   ],
   "source": [
    "abcde = df.copy()\n",
    "abcde['Promo'] = np.nan\n",
    "abcde.Promo = abcde.Promo.mask( abcde.Promotion_Name == 'No Promotion', 'No Promotion')\n",
    "abcde.Promo = abcde.Promo.mask( abcde.Promotion_Name != 'No Promotion', 'Promotion')\n",
    "\n",
    "abcde.groupby([ 'Promo', 'Rented'])[[\"AmountEarned\"]].agg(['sum','count', 'mean'])"
   ]
  },
  {
   "cell_type": "code",
   "execution_count": 39,
   "metadata": {},
   "outputs": [
    {
     "name": "stdout",
     "output_type": "stream",
     "text": [
      "Probabilistically, the likelihood of Recieving more rentals due to promotion is 1.1469033336466181\n"
     ]
    }
   ],
   "source": [
    "abcdepromo = abcde[(abcde['Promotion_Name'] != 'No Promotion')]\n",
    "abcdenopromo = abcde[(abcde['Promotion_Name'] == 'No Promotion')]\n",
    "\n",
    "withpromo = (abcdepromo.Rented.sum()) / (abcdepromo.Rented.count())\n",
    "withoutpromo = (abcdenopromo.Rented.sum()) / (abcdenopromo.Rented.count())\n",
    "\n",
    "morerental = withpromo / withoutpromo\n",
    "print('Probabilistically, the likelihood of Recieving more rentals due to promotion is', morerental)"
   ]
  },
  {
   "cell_type": "markdown",
   "metadata": {},
   "source": [
    "P(Number of Rentals | Promotion) = 25410/(13461+25410)\n",
    "\n",
    "P(Number of Rentals | No Promo) = 11278/(8509+11278)\n",
    "\n",
    "Likelihood that we recieve more rentals due to promotion = P(Number of Rentals | Promotion) / P(Number of Rentals |  No Promotion) \n",
    "\n",
    "So, because of promotion, you are 1.14 times more likely to have rentals than if you do not have promotion"
   ]
  },
  {
   "cell_type": "markdown",
   "metadata": {},
   "source": [
    "### So, Probabilistically, becasue of promotion, we are 1.14 times more likely to have more rentals than if we don't have promotion  "
   ]
  },
  {
   "cell_type": "markdown",
   "metadata": {},
   "source": [
    "# --------------------------------------------------------------------------------------------"
   ]
  },
  {
   "cell_type": "markdown",
   "metadata": {},
   "source": [
    "# Qn 8 - Estimate probabilistically the likelihood CubeSmart increased revenue when offering these promotions"
   ]
  },
  {
   "cell_type": "code",
   "execution_count": 40,
   "metadata": {},
   "outputs": [
    {
     "name": "stdout",
     "output_type": "stream",
     "text": [
      "Probabilistically, the likelihood of Recieving increased Revenue due to promotion is 0.20813011654537955\n"
     ]
    }
   ],
   "source": [
    "num = (abcdepromo.AmountEarned.sum()) - (abcdenopromo.AmountEarned.sum()) \n",
    "deno = (abcdepromo.AmountEarned.sum()) + (abcdenopromo.AmountEarned.sum())\n",
    "increasedrevenue = num /deno\n",
    "print('Probabilistically, the likelihood of Recieving increased Revenue due to promotion is', increasedrevenue)"
   ]
  },
  {
   "cell_type": "markdown",
   "metadata": {},
   "source": [
    "### Probabilistically, the likelihood of CubeSmart Recieveing Increased Revenue when offering the promotion is 0.21"
   ]
  },
  {
   "cell_type": "markdown",
   "metadata": {},
   "source": [
    "# --------------------------------------------------------------------------------------------"
   ]
  },
  {
   "cell_type": "markdown",
   "metadata": {},
   "source": [
    "# Findings"
   ]
  },
  {
   "cell_type": "markdown",
   "metadata": {},
   "source": [
    "Qn 1 - Free month promotions are effectively a discount for the customer, though hopefully generate some ultimate benefit to revenue.  Using the dataset, can you assess how much incremental revenue is generated (or lost) from the free month promotions?\n",
    "\n",
    "1. We see that The Promotions, bought in an increase in the number of customers, but the Average Revenue by a customer without promotion is high than a Average Revenue by a with promotion - So, the promotion is not a success in revenue perspective of view.  \n",
    "\n",
    "2. Also, with the following trend, we can see that with the next 6 quarters, there is a possiblity that the Average Revenue With Promotion will be higher than Average Revenue without promotion - So there is a high chance that after 6 quarters ~ 1.5 Years, we might see a success in giving promotion\n",
    "\n",
    "3. Also, the total number of reservations required to breakeven the current loss incurred by promotion, taking the number of people who reserve and don't use is ~ 3956 Customers\n",
    "\n",
    "\n",
    "\n",
    "_________________________________\n",
    "Qn 2 - Free month promotions are effectively a discount for the customer, though hopefully generate some ultimate benefit to revenue.  Using the dataset, can you assess how much incremental revenue is generated (or lost) from the free month promotions?\n",
    "\n",
    "1. We Compare, the Revenue from Customer With Promotion and Revenue from Customer without Promotion, and the mean of them is compared statistically using T-Test, and we see that Avg Without Promotion < Avg With Promotion. This is means that the Promotion wasn't a success. \n",
    "\n",
    "2. Also, the incremental loss was given by (Avg without Promotion - Avg with Promotion) = 289.0862 Dollars Loss\n",
    "________\n",
    "Qn 3 - To what degree does the length of customers' stays impact your responses above and how should it be considered?  What is the most appropriate way to consider customer length of stay, given the number of customers still renting?\n",
    "\n",
    "1. The Customer's Length of Stay is the most crucial part in the analysis. The Revenue Generated is Entirely Dependent on the length of the customer stay.\n",
    "2. Here, we have made an assumption that, the customer did move out on the day we collected the data (06/11/2014). But this is a very vague approximation.\n",
    "3. There is a sophisticated way to obtain the length of the customer's stay.\n",
    "4. We are sure about the Region in which the customer rent and also the Purpose and the Reason for the Storage (Available for most of the Rented = 1).\n",
    "5. With these three approximation, it is possible to have a better estimate of the length of stay of the customer.\n",
    "6. Say, there are a few Customer - Renting in Arizona | Purpose of Business | Storage of business Inventory. There could be 10 such customers with the same set of parameters, and out of which 6 might have moved out and 4 didn't. We average the length of stay of the 6 customers and use that Average as the length of stay for other 4 customers who didn't move out and proceed with analysis.\n",
    "7. But, sometimes it is impossible to make it work for all possible combinations of three variables. If that is the case, we can use purpose and Region, and even for a very few cases these two combination might not work and that case, we can use the average stay of a customer based on region and this average could be used for customers who didn't move.\n",
    "\n",
    "_____\n",
    "Qn 4 - How do customer type (based on survey responses), geographic/regional variations, reservation channel, and price concessions impact consideration of (1) and (2) above?\n",
    "\n",
    "1. Region\n",
    "    1. The Region wise actually will vary the entire concept of promotion. We see that only Chicago and Other West had a significant positive impact on Promotion and we might consider to stop giving the promotion in Regions like Ohio, Arizona, Tennessee.\n",
    "    2. This Inference is also backed up by the T Test performed between Avg Revenue with Promotion and Avg revenue without promotion for individual regions\n",
    "    \n",
    "2. Reservation Channel \n",
    "    1. None of the reservation channel did support the promotions as well. In Every of the Reservation Channel, we see that Avg Revenue With Promotion < Avg Revenue Without Promotion, and it is also supported by the T Test performed above\n",
    "    \n",
    "3. Concession \n",
    "    1. The Concession is approximated into whether Concession was given or Not. And with Concession, Yes or No, the result still stays the same. Avg Revenue With Promotion < Avg Revenue Without Promotion for Both Concession Type\n",
    "    2. But, may be if we categorize the Concession for 20 bins, between 0 - 5% and so on, may be certain percentage of concession might actually will give a better result, for which the revenue was better with Promotion\n",
    "_________\n",
    "Qn 5 - What type of restrictions and/or creative adjustments to the structure of the free month promotions would you recommend in order to increase the profitability of the promotion? Can these recommendations be justified by the data provided?\n",
    "\n",
    "1. There are two major problems that we encounter\n",
    "    1. Because of Monthly Lease, we are unsure of the lenght of the stay\n",
    "    2. The Promotion offer is given out at random and that is not how it has to be done. There should be a criteria for the promotion offer\n",
    "2. Problems:\n",
    "    1. There are few Customers, who will get the promotional offer (One Month Free) and they Move Out Next Month. So the effective revenue is zero. There is difference between a customer offered Promotional Offer and then stay for just one month and Customer offered promotional offer and stayed for a prolonged period\n",
    "    2. There are few customers who are staying for a prolonged period and they dont get any promotional offer, that need to be considered, in the customer retention point of view\n",
    "3. Solution\n",
    "    1. The Promotional Offer should be given to the customers who are disclosing their length of stay prior in hand. Or if they are ready to make a commitment for atleast say 5 - 6 Months they could be eligible for the promotional offer. Depending on the number of months they are willing to sign the lease, we could modify the customers Promotional Offer.\n",
    "    2. If they are sure that they are going to stay for less than two months or just one month, instead of full month free, we can give half month free promotion.\n",
    "    3. Another advantage of knowing the customer length of stay is, Say a customer plans to rent for 10 Months and Pthe rent per month is 10 Dollars. If we offer him the first month ptomotion, and can increase the rent by just 1 Dollar, we can still break even our actual expectation.\n",
    "    4. Or as I said above, dealing with the Length of the stay of the customer, if we are able to develop an algorithm that can predict the average stay of the customer, based on this average length, we get the input from customers for their purpose and Storage Reason, we can predict what their average stay would be and then offer them promotion based on that. This could be more accurate than forcing the customers to disclose their length of stay to be eligible for promotion offer\n",
    "\n",
    "_______\n",
    "\n",
    "\n",
    "Qn 6 - What additional information would be helpful to have to better determine the profitability of the First Month Free promotion?\n",
    "\n",
    "1. If we had known the revenue or number of customers for any period (Without Promotion) before or after the given time period, it will be possible to know the success\n",
    "2. If we know the target Revenue, or the target number of customers, it could help us in understanding the success\n",
    "\n",
    "_______\n",
    "Qn 7 - Estimate probabilistically the likelihood that CubeSmart received more rentals as of result of offering promotions\n",
    "\n",
    "1. Probablistically, becasue of promotion, we are 1.14 times more likely to have more rentals than if we don't have promotion\n",
    "_____\n",
    "Qn 8 - Estimate probabilistically the likelihood CubeSmart increased revenue when offering these promotions\n",
    "\n",
    "1. Probabilistically, the likelihood of CubeSmart Recieveing Increased Revenue when offering the promotion is 0.21"
   ]
  },
  {
   "cell_type": "markdown",
   "metadata": {},
   "source": [
    "# Recommendations"
   ]
  },
  {
   "cell_type": "markdown",
   "metadata": {},
   "source": [
    "1. To Summarize the entire work, we were able to understand that although promotional offer was successful in the number of customers perspective, it failed in the revenue perspective. The Average Revenue from a customer with promotion < Avg Revenue Without Promotion\n",
    "\n",
    "2. The likelihood of having more rentals because of Promotion is 1.14\n",
    "\n",
    "3. So, to break even, we need around ~4000 reservations to break in, and withe current trend it is also possible to observe that after 6 quarters, the Avg Revenue With Promotion will exceed the Avg Revenue Without Promotion. \n",
    "\n",
    "4. The Incremental loss of the Promotion is given by [Avg Revenue (Without Promotion) - Avg Revenue (With Promotion)] = 289.08622 Dollars\n",
    "\n",
    "5. The other possible works that could be done for the better Revenue of the company and the better profitability of the promotion is below "
   ]
  },
  {
   "cell_type": "markdown",
   "metadata": {},
   "source": [
    "# Future Work "
   ]
  },
  {
   "cell_type": "markdown",
   "metadata": {},
   "source": [
    "1. As mentioned above, reg a way to work with the Length of stay of the customer, I would like to predict the customer length based on the aggregation of the three other variables (Region, purpose and Reason)\n",
    "2. We have assumed that the variance of Amount Earned With promotion and without promotion to be unequal and we used Welch T Test for all comparison of mean. But we can do Chi squared test to know whether the Variance are equal between the two samples and decide whether to use pooled T test or Welch T Test to compare the mean of the two samples for better significance. \n",
    "3. Also, another way to deal with the Length of stay is to consider all the instances that have the actual length of stay and build a model based on this (Probably without the Move Out Date), and once we are able to develop a prediction model, then it is possible to predict the length of stay for all the unknown instances. \n",
    "4. For Concession, I have approximated into two different categories, Whether Concession was offered, Yes or No. But it would be more relevant to make the concession into categories of 20 bins (0 - 5% in one bin, 6 - 10% in one bin), and see if there was any range in which promotion might had made a positive impact \n",
    "5. We can develop a geographical plot (Geographical heat map), to understand whether is there any pattern on the Amount Earned or the Number of customers. Say there could be more concentration customers around California and AZ and the entire west coast than the east coast. If we are able to understand these geographical impact, then it will be possible to make better understanding about the promotion \n",
    "6. We have made an estimate that in the next 6 quarters, there is a possiblity that the Promotion does actually impact the revenue positively. So we can try to see whether this is true using the Time Series Analysis. We aggregate the average salary monthly from 11/2012 - 05/2016 and then we use the Seasonal ARIMA to develop Model for the Amount Earned Vs Time, and using this model, we predict the future amount earned for both With promotion and Without Promotion. Now we can see whether the Promotion was making an impact positively to the revenue "
   ]
  }
 ],
 "metadata": {
  "kernelspec": {
   "display_name": "Python 3",
   "language": "python",
   "name": "python3"
  },
  "language_info": {
   "codemirror_mode": {
    "name": "ipython",
    "version": 3
   },
   "file_extension": ".py",
   "mimetype": "text/x-python",
   "name": "python",
   "nbconvert_exporter": "python",
   "pygments_lexer": "ipython3",
   "version": "3.6.5"
  }
 },
 "nbformat": 4,
 "nbformat_minor": 2
}
